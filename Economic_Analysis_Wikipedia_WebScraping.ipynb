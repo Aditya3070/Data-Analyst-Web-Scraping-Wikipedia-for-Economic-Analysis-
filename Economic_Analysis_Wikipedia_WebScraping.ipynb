{
 "cells": [
  {
   "cell_type": "markdown",
   "id": "60552135",
   "metadata": {},
   "source": [
    "# Economic Analysis: Web Scraping Wikipedia Data"
   ]
  },
  {
   "cell_type": "code",
   "execution_count": null,
   "id": "4002796e",
   "metadata": {},
   "outputs": [],
   "source": [
    "\n",
    "# Import necessary libraries\n",
    "import requests\n",
    "from bs4 import BeautifulSoup\n",
    "import pandas as pd\n",
    "import matplotlib.pyplot as plt\n",
    "import seaborn as sns\n",
    "\n",
    "# Set plot styles\n",
    "sns.set(style=\"whitegrid\")\n",
    "plt.rcParams['figure.figsize'] = (12, 6)\n"
   ]
  },
  {
   "cell_type": "markdown",
   "id": "ed8aec8d",
   "metadata": {},
   "source": [
    "## 1. Web Scraping Data"
   ]
  },
  {
   "cell_type": "code",
   "execution_count": null,
   "id": "b0b90d84",
   "metadata": {},
   "outputs": [],
   "source": [
    "\n",
    "# Example: Scrape a Wikipedia table of countries by GDP (nominal)\n",
    "url = \"https://en.wikipedia.org/wiki/List_of_countries_by_GDP_(nominal)\"\n",
    "response = requests.get(url)\n",
    "soup = BeautifulSoup(response.text, \"html.parser\")\n",
    "\n",
    "# Find the first table in the page\n",
    "table = soup.find(\"table\", {\"class\": \"wikitable\"})\n",
    "\n",
    "# Read the table into a pandas DataFrame\n",
    "dfs = pd.read_html(str(table))\n",
    "gdp_data = dfs[0]\n",
    "\n",
    "# Show first few rows\n",
    "gdp_data.head()\n"
   ]
  },
  {
   "cell_type": "markdown",
   "id": "00d5d906",
   "metadata": {},
   "source": [
    "## 2. Data Preprocessing"
   ]
  },
  {
   "cell_type": "code",
   "execution_count": null,
   "id": "22657c2b",
   "metadata": {},
   "outputs": [],
   "source": [
    "\n",
    "# Clean column names\n",
    "gdp_data.columns = [\"Rank\", \"Country\", \"GDP_USD_Millions\", \"Year\"]\n",
    "\n",
    "# Drop unnecessary columns\n",
    "gdp_data = gdp_data[[\"Country\", \"GDP_USD_Millions\"]]\n",
    "\n",
    "# Remove commas and convert GDP to numeric\n",
    "gdp_data[\"GDP_USD_Millions\"] = (\n",
    "    gdp_data[\"GDP_USD_Millions\"]\n",
    "    .replace('[\\$,]', '', regex=True)\n",
    "    .astype(float)\n",
    ")\n",
    "\n",
    "# Drop any missing values\n",
    "gdp_data.dropna(inplace=True)\n",
    "\n",
    "# Show cleaned data\n",
    "gdp_data.head()\n"
   ]
  },
  {
   "cell_type": "markdown",
   "id": "5671dc81",
   "metadata": {},
   "source": [
    "## 3. Analysis"
   ]
  },
  {
   "cell_type": "code",
   "execution_count": null,
   "id": "e55a35e5",
   "metadata": {},
   "outputs": [],
   "source": [
    "\n",
    "# Top 10 countries by GDP\n",
    "top10 = gdp_data.sort_values(by=\"GDP_USD_Millions\", ascending=False).head(10)\n",
    "top10\n"
   ]
  },
  {
   "cell_type": "markdown",
   "id": "2d0c7d11",
   "metadata": {},
   "source": [
    "## 4. Visualization"
   ]
  },
  {
   "cell_type": "code",
   "execution_count": null,
   "id": "0280978b",
   "metadata": {},
   "outputs": [],
   "source": [
    "\n",
    "# Bar plot for Top 10 Economies\n",
    "plt.figure(figsize=(10,6))\n",
    "sns.barplot(data=top10, x=\"GDP_USD_Millions\", y=\"Country\", palette=\"viridis\")\n",
    "plt.title(\"Top 10 Countries by GDP (Nominal)\")\n",
    "plt.xlabel(\"GDP (in USD Millions)\")\n",
    "plt.ylabel(\"Country\")\n",
    "plt.show()\n"
   ]
  },
  {
   "cell_type": "markdown",
   "id": "b6c46452",
   "metadata": {},
   "source": [
    "## 5. Insights and Conclusions"
   ]
  },
  {
   "cell_type": "markdown",
   "id": "7491268b",
   "metadata": {},
   "source": [
    "\n",
    "**Insights:**\n",
    "- The United States has the highest nominal GDP among all countries.\n",
    "- China and Japan follow as the 2nd and 3rd largest economies respectively.\n",
    "- European countries like Germany and the United Kingdom also appear in the top 10.\n",
    "\n",
    "**Conclusions:**\n",
    "- GDP (Nominal) is one indicator of economic strength.\n",
    "- Further study can include GDP per capita or purchasing power parity (PPP) to get deeper insights.\n"
   ]
  }
 ],
 "metadata": {},
 "nbformat": 4,
 "nbformat_minor": 5
}
